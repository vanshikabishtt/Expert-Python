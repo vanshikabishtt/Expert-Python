{
 "cells": [
  {
   "cell_type": "code",
   "execution_count": 1,
   "id": "3b6b1031-33f5-4a08-8855-b905a0cb07b8",
   "metadata": {},
   "outputs": [],
   "source": [
    "# ASSIGNMENT"
   ]
  },
  {
   "cell_type": "code",
   "execution_count": 21,
   "id": "8db02bf8-fdb7-4b96-87ae-dd51af06d3b0",
   "metadata": {},
   "outputs": [
    {
     "name": "stdout",
     "output_type": "stream",
     "text": [
      "BMW Z4 75Kwh\n",
      "Ford Mustang 70Kwh\n",
      "Mercedes May Bach 80Kwh\n"
     ]
    }
   ],
   "source": [
    "#1.\tCreate an ElectricCar class that inherits from the Car class and includes an additional attribute, battery_size.\n",
    "class car:\n",
    "    def __init__(self,brand,model):\n",
    "        self.brand=brand\n",
    "        self.model=model\n",
    "class ElectricCar(car): # CHILD CLASS\n",
    "    def __init__(self,brand,model,battery_size):\n",
    "        super().__init__(brand,model)\n",
    "        self.battery_size=battery_size\n",
    "mycar1=ElectricCar(\"BMW\",\"Z4\",\"75Kwh\")\n",
    "print(mycar1.brand,mycar1.model,mycar1.battery_size)\n",
    "\n",
    "mycar2=ElectricCar(\"Ford\",\"Mustang\",\"70Kwh\")\n",
    "print(mycar2.brand,mycar2.model,mycar2.battery_size)\n",
    "\n",
    "mycar3=ElectricCar(\"Mercedes\",\"May Bach\",\"80Kwh\")\n",
    "print(mycar3.brand,mycar3.model,mycar3.battery_size)    "
   ]
  },
  {
   "cell_type": "code",
   "execution_count": 20,
   "id": "5e5bed6a-d5c7-4e29-be8c-470ce401d056",
   "metadata": {},
   "outputs": [
    {
     "name": "stdout",
     "output_type": "stream",
     "text": [
      "Lenovo IdeaPad 65Kwh\n",
      "Dell Inspiron 60Kwh\n",
      "HP Spectre 55Kwh\n"
     ]
    }
   ],
   "source": [
    "#2.\tDefine a Laptop class that inherits from the Computer class and includes an additional attribute, battery_life.\n",
    "class Computer:\n",
    "    def __init__(self,brand,model):\n",
    "        self.brand=brand\n",
    "        self.model=model\n",
    "class Laptop(Computer):\n",
    "    def __init__(self,brand,model,battery_life):\n",
    "        super().__init__(brand,model)\n",
    "        self.battery_life=battery_life\n",
    "l1=Laptop(\"Lenovo\",\"IdeaPad\",\"65Kwh\")\n",
    "print(l1.brand,l1.model,l1.battery_life)\n",
    "\n",
    "l2=Laptop(\"Dell\",\"Inspiron\",\"60Kwh\")\n",
    "print(l2.brand,l2.model,l2.battery_life)\n",
    "\n",
    "l3=Laptop(\"HP\",\"Spectre\",\"55Kwh\")\n",
    "print(l3.brand,l3.model,l3.battery_life)"
   ]
  },
  {
   "cell_type": "code",
   "execution_count": 19,
   "id": "499ed083-781b-4091-836f-d5d8aa28f1fe",
   "metadata": {},
   "outputs": [
    {
     "name": "stdout",
     "output_type": "stream",
     "text": [
      "Samsung S25 Ultra 55kwh Android\n",
      "Apple i15pro 50Kwh IOS\n",
      "Google Pixel 7 Pro 60kwh ChromeOS\n"
     ]
    }
   ],
   "source": [
    "#3.\tCreate a Smartphone class and add another child class of your choice that inherits from an ElectronicDevice class. Include an additional attribute, operating_system.\n",
    "class Smartphone:\n",
    "    def __init__(self,brand,model):\n",
    "        self.brand=brand\n",
    "        self.model=model\n",
    "class ElectronicDevice(Smartphone):\n",
    "    def __init__(self,brand,model,battery):\n",
    "        super().__init__(brand,model)\n",
    "        self.battery=battery\n",
    "class System(ElectronicDevice):\n",
    "    def __init__(self,brand,model,battery,operating_system):\n",
    "        super().__init__(brand,model,battery)\n",
    "        self.operating_system=operating_system\n",
    "s1=System(\"Samsung\",\"S25 Ultra\",\"55kwh\",\"Android\")\n",
    "print(s1.brand,s1.model,s1.battery,s1.operating_system)\n",
    "\n",
    "s2=System(\"Apple\",\"i15pro\",\"50Kwh\",\"IOS\")\n",
    "print(s2.brand,s2.model,s2.battery,s2.operating_system)\n",
    "\n",
    "s3=System(\"Google\",\"Pixel 7 Pro\",\"60kwh\",\"ChromeOS\")\n",
    "print(s3.brand,s3.model,s3.battery,s3.operating_system)\n",
    "    "
   ]
  },
  {
   "cell_type": "code",
   "execution_count": 18,
   "id": "3b488d23-30a8-49ed-8a7c-70356c82919b",
   "metadata": {},
   "outputs": [
    {
     "name": "stdout",
     "output_type": "stream",
     "text": [
      "Ravi Shankar Banaras Bairagi Sitar\n",
      "Zakir Husaain Lucknow Shakti Tabla\n",
      "Bismillah Khan Lucknow Dhun Shehnai\n"
     ]
    }
   ],
   "source": [
    "#4.\tImplement a Musician class and create another child class of your choice that extends an Artist class. Include an additional attribute, instrument_played.\n",
    "class Musician:\n",
    "    def __init__(self,name,place):\n",
    "        self.name=name\n",
    "        self.place=place\n",
    "class Artist(Musician):\n",
    "    def __init__(self,name,place,composition):\n",
    "        super().__init__(name,place)\n",
    "        self.composition=composition\n",
    "class Instrument(Artist):\n",
    "    def __init__(self,name,place,composition,instruments):\n",
    "        super().__init__(name,place,composition)\n",
    "        self.instruments=instruments\n",
    "i1=Instrument(\"Ravi Shankar\",\"Banaras\",\"Bairagi\",\"Sitar\")\n",
    "print(i1.name,i1.place,i1.composition,i1.instruments)\n",
    "\n",
    "i2=Instrument(\"Zakir Husaain\",\"Lucknow\",\"Shakti\",\"Tabla\")\n",
    "print(i2.name,i2.place,i2.composition,i2.instruments)\n",
    "\n",
    "i3=Instrument(\"Bismillah Khan\",\"Lucknow\",\"Dhun\",\"Shehnai\")\n",
    "print(i3.name,i3.place,i3.composition,i3.instruments)"
   ]
  },
  {
   "cell_type": "code",
   "execution_count": 31,
   "id": "f93134bf-73bb-475d-bdae-6d31901d50eb",
   "metadata": {},
   "outputs": [
    {
     "name": "stdout",
     "output_type": "stream",
     "text": [
      "No Longer Human Osamu Dazai Novel\n",
      "To Kill A Mocking Bird Harper Lee Southern Gothic\n",
      "Pride And Prejudice Jane Austin Justice\n"
     ]
    }
   ],
   "source": [
    "#5 Implement a FictionBook class, add another child class of your choice that inherits from a Book class and add an attribute genre\n",
    "class FictionBook:\n",
    "    def __init__(self,book,writer):\n",
    "        self.book=book\n",
    "        self.writer=writer\n",
    "class Book(FictionBook):\n",
    "    def __init__(self,book,writer,genre):\n",
    "        super().__init__(book,writer)\n",
    "        self.genre=genre\n",
    "b1=Book(\"No Longer Human\",\"Osamu Dazai\",\"Novel\")\n",
    "print(b1.book,b1.writer,b1.genre)\n",
    "\n",
    "b2=Book(\"To Kill A Mocking Bird\",\"Harper Lee\",\"Southern Gothic\")\n",
    "print(b2.book,b2.writer,b2.genre)\n",
    "\n",
    "b3=Book(\"Pride And Prejudice\",\"Jane Austin\",\"Justice\")\n",
    "print(b3.book,b3.writer,b3.genre)"
   ]
  },
  {
   "cell_type": "code",
   "execution_count": null,
   "id": "f14d9b92-104d-4769-a231-c27b20b101f8",
   "metadata": {},
   "outputs": [],
   "source": [
    "# BONUS QUESTION\n",
    "#Create a student class that takes the name & marks of 3 subjects as arguments in the constructor. Then create a method to print the average"
   ]
  },
  {
   "cell_type": "code",
   "execution_count": 35,
   "id": "9783fe43-7507-4128-8d1a-1d861e039c7c",
   "metadata": {},
   "outputs": [
    {
     "name": "stdout",
     "output_type": "stream",
     "text": [
      "Sumit 78 87 89\n",
      "Total marks = 254,and thier average = 84.66666666666667\n"
     ]
    }
   ],
   "source": [
    "# 1st Method\n",
    "class Student():\n",
    "    def __init__(self,name,physics,maths,chemistry):\n",
    "        self.name=name\n",
    "        self.physics=physics\n",
    "        self.maths=maths\n",
    "        self.chemistry=chemistry\n",
    "s1=Student(\"Sumit\",78,87,89)\n",
    "print(s1.name,s1.physics,s1.maths,s1.chemistry)\n",
    "marks=s1.physics+s1.maths+s1.chemistry\n",
    "average=marks/3\n",
    "print(f\"Total marks = {marks},and thier average = {average}\")"
   ]
  },
  {
   "cell_type": "code",
   "execution_count": 38,
   "id": "8c3c5300-c4c2-47fa-b0ce-09c834ff234b",
   "metadata": {},
   "outputs": [
    {
     "name": "stdout",
     "output_type": "stream",
     "text": [
      "Tanya [78, 89, 87]\n",
      "Total marks = 254,and thier average = 84.66666666666667\n"
     ]
    }
   ],
   "source": [
    "# 2nd Method\n",
    "class Student():\n",
    "    def __init__(self,name,marks):\n",
    "        self.name=name\n",
    "        self.marks=marks\n",
    "s1=Student(\"Tanya\",[78,89,87])\n",
    "print(s1.name,s1.marks)\n",
    "total=sum(s1.marks)\n",
    "len=len(s1.marks)\n",
    "average=total/len\n",
    "print(f\"Total marks = {total},and thier average = {average}\")"
   ]
  }
 ],
 "metadata": {
  "kernelspec": {
   "display_name": "Python 3 (ipykernel)",
   "language": "python",
   "name": "python3"
  },
  "language_info": {
   "codemirror_mode": {
    "name": "ipython",
    "version": 3
   },
   "file_extension": ".py",
   "mimetype": "text/x-python",
   "name": "python",
   "nbconvert_exporter": "python",
   "pygments_lexer": "ipython3",
   "version": "3.12.7"
  }
 },
 "nbformat": 4,
 "nbformat_minor": 5
}
