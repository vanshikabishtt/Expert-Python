{
 "cells": [
  {
   "cell_type": "code",
   "execution_count": 3,
   "id": "d7d9f573-c512-4b41-8876-389404be9482",
   "metadata": {},
   "outputs": [
    {
     "name": "stdout",
     "output_type": "stream",
     "text": [
      "Roar!\n",
      "Growl!\n"
     ]
    }
   ],
   "source": [
    "# Class Lion\n",
    "class Lion:\n",
    "    def sound(self):\n",
    "        return \"Roar!\"\n",
    "\n",
    "# Class Tiger\n",
    "class Tiger(Lion):\n",
    "    def sound(self):\n",
    "        return \"Growl!\"\n",
    "\n",
    "# Function that demonstrates polymorphism\n",
    "def animal_sound(animal):\n",
    "    print(animal.sound())\n",
    "\n",
    "# Create instances of Lion and Tiger\n",
    "lion = Lion()\n",
    "tiger = Tiger()\n",
    "\n",
    "# Calling animal_sound with different animals\n",
    "animal_sound(lion) \n",
    "animal_sound(tiger) \n"
   ]
  },
  {
   "cell_type": "code",
   "execution_count": 4,
   "id": "9ca557a1-7b3d-49c0-b2b5-faae2e119982",
   "metadata": {},
   "outputs": [
    {
     "name": "stdout",
     "output_type": "stream",
     "text": [
      "The vehicle's speed is unknown.\n",
      "The car's speed is 150 km/h.\n"
     ]
    }
   ],
   "source": [
    "# Base class Vehicle\n",
    "class Vehicle:\n",
    "    def speed(self):\n",
    "        return \"The vehicle's speed is unknown.\"\n",
    "\n",
    "# Derived class Car, which overrides the speed() method\n",
    "class Car(Vehicle):\n",
    "    def speed(self):\n",
    "        return \"The car's speed is 150 km/h.\"\n",
    "\n",
    "# Create an object of Vehicle and Car\n",
    "vehicle = Vehicle()\n",
    "car = Car()\n",
    "\n",
    "# Calling the speed method on both objects\n",
    "print(vehicle.speed()) \n",
    "print(car.speed())      \n"
   ]
  },
  {
   "cell_type": "code",
   "execution_count": 11,
   "id": "619e0cff-3bde-47d6-a0d7-d2220829592c",
   "metadata": {},
   "outputs": [
    {
     "name": "stdout",
     "output_type": "stream",
     "text": [
      "Total volume of both boxes: 54\n"
     ]
    }
   ],
   "source": [
    "# Define the Box class\n",
    "class Box:\n",
    "    def __init__(self, length, width, height):\n",
    "        self.length = length\n",
    "        self.width = width\n",
    "        self.height = height\n",
    "    \n",
    "    # Method to calculate the volume of the box\n",
    "    def volume(self):\n",
    "        return self.length * self.width * self.height\n",
    "    \n",
    "    # Overloading the + operator\n",
    "    def __add__(self, other):\n",
    "        return self.volume() + other.volume()\n",
    "\n",
    "# Create two Box objects\n",
    "box1 = Box(2, 3, 4) \n",
    "box2 = Box(1, 5, 6)  \n",
    "\n",
    "# Add the volumes of both boxes using the overloaded + operator\n",
    "box1 + box2\n",
    "\n",
    "# Print the total volume\n",
    "print(\"Total volume of both boxes:\", total_volume)  \n"
   ]
  },
  {
   "cell_type": "code",
   "execution_count": null,
   "id": "74f9ee43-f18f-4f4f-8b72-5a0500a5ee12",
   "metadata": {},
   "outputs": [],
   "source": []
  },
  {
   "cell_type": "code",
   "execution_count": null,
   "id": "42321f40-ef0a-45db-9283-d2ddd235240c",
   "metadata": {},
   "outputs": [],
   "source": []
  }
 ],
 "metadata": {
  "kernelspec": {
   "display_name": "Python 3 (ipykernel)",
   "language": "python",
   "name": "python3"
  },
  "language_info": {
   "codemirror_mode": {
    "name": "ipython",
    "version": 3
   },
   "file_extension": ".py",
   "mimetype": "text/x-python",
   "name": "python",
   "nbconvert_exporter": "python",
   "pygments_lexer": "ipython3",
   "version": "3.12.7"
  }
 },
 "nbformat": 4,
 "nbformat_minor": 5
}
